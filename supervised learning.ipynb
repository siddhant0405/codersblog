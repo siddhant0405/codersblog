{
 "cells": [
  {
   "cell_type": "code",
   "execution_count": 1,
   "metadata": {},
   "outputs": [],
   "source": [
    "#first approach"
   ]
  },
  {
   "cell_type": "code",
   "execution_count": 129,
   "metadata": {},
   "outputs": [],
   "source": [
    "import numpy as np\n",
    "from sortedcontainers import SortedList\n",
    "\n",
    "from keras.datasets import mnist\n",
    "\n",
    "from builtins import print\n",
    "import matplotlib.pyplot as plt\n",
    "\n",
    "\n",
    "\n",
    "\n",
    "\n",
    "\n",
    "\n",
    "\n",
    "\n"
   ]
  },
  {
   "cell_type": "markdown",
   "metadata": {},
   "source": [
    "k-nearest neighbours"
   ]
  },
  {
   "cell_type": "code",
   "execution_count": 74,
   "metadata": {},
   "outputs": [],
   "source": [
    "class knn(object):\n",
    "    \n",
    "    def __init__(self,k):\n",
    "        self.k=k\n",
    "        \n",
    "    def fit(self,X,y):\n",
    "        self.X =X\n",
    "        self.y=y\n",
    "        \n",
    "        \n",
    "        \n",
    "    def predict(self,X):\n",
    "        y = np.zeros(len(X)) #shape can be integer or tuple (int )  or ((int , int))\n",
    "        for i,x in enumerate(X):\n",
    "            sl = SortedList()\n",
    "            for j,xt in enumerate(self.X):\n",
    "                diff = x-xt\n",
    "                d = diff.dot(diff)\n",
    "                if(len(sl)<self.k):\n",
    "                    sl.add((d,self.y[j]))\n",
    "                    \n",
    "                else:\n",
    "                    if(d<sl[-1][0]):\n",
    "                        del sl[-1]\n",
    "                        sl.add((d,self.y[j]))\n",
    "                        \n",
    "                        \n",
    "                        \n",
    "            votes ={}\n",
    "            \n",
    "            max_votes =0\n",
    "            max_votes_class=-1\n",
    "            \n",
    "            for _,v in sl:\n",
    "                \n",
    "                votes[v]=votes.get(v,0) + 1\n",
    "                \n",
    "                \n",
    "            for v, count in votes.items():\n",
    "                \n",
    "                if(count>max_votes):\n",
    "                    max_votes=count\n",
    "                    \n",
    "                    max_votes_class=v\n",
    "                    \n",
    "            y[i]=max_votes_class\n",
    "            \n",
    "            \n",
    "        return y\n",
    "    \n",
    "    \n",
    "    def score(self,X,y):\n",
    "        p = self.predict(X)\n",
    "        \n",
    "        return np.mean(p==y)\n",
    "    \n",
    "    \n",
    "    \n",
    "    \n",
    "    \n",
    "    \n",
    "                \n",
    "                \n",
    "                \n",
    "                    \n",
    "                \n",
    "            \n",
    "                    \n",
    "                \n",
    "        \n",
    "        \n",
    "    "
   ]
  },
  {
   "cell_type": "code",
   "execution_count": 83,
   "metadata": {},
   "outputs": [],
   "source": [
    "(x_train, y_train), (x_test, y_test) =mnist.load_data()\n",
    "x_train = x_train/255\n",
    "x_test =x_test/255\n",
    "\n",
    "x_train1= x_train.reshape(-1,28*28)\n",
    "x_test1= x_test.reshape(-1,28*28)\n",
    "\n",
    "x_test1=x_test1[:1000,:]\n",
    "x_train1=x_train1[:1000,:]\n",
    "\n",
    "\n",
    "\n",
    "y_train1 =y_train[:1000]  \n",
    "y_test1 =y_test[:1000]\n",
    "\n",
    "\n",
    "\n",
    "\n",
    "#processing mnist data\n",
    "    \n",
    "    \n",
    "\n",
    "    \n",
    "    \n",
    "\n",
    "    "
   ]
  },
  {
   "cell_type": "markdown",
   "metadata": {},
   "source": [
    "bayes classifier"
   ]
  },
  {
   "cell_type": "code",
   "execution_count": 97,
   "metadata": {},
   "outputs": [],
   "source": [
    "import numpy as np\n",
    "from datetime import datetime\n",
    "from scipy.stats import norm\n",
    "from scipy.stats import multivariate_normal as nvm"
   ]
  },
  {
   "cell_type": "code",
   "execution_count": 105,
   "metadata": {},
   "outputs": [],
   "source": [
    "class NaiveBayes(object):\n",
    "    \n",
    "    def fit(self,X,y,smoothing = 10e-3):\n",
    "        self.gaussians = dict()\n",
    "        self.priors= dict()\n",
    "        labels = set(y)\n",
    "        for c in labels:\n",
    "            current_x = X[y==c]\n",
    "            self.gaussians[c]={'mean':current_x.mean(axis=0),'var':np.var(current_x,axis=0)+smoothing}\n",
    "            self.priors[c]= float(len(y[y==c]))/len(y)\n",
    "            \n",
    "            \n",
    "            \n",
    "    def score(self,X,y):\n",
    "        p=self.predict(X)\n",
    "        return np.mean(X==y)\n",
    "    \n",
    "    \n",
    "    \n",
    "    def predict(self,X):\n",
    "        N,D =X.shape\n",
    "        K =len(self.gaussians)\n",
    "        p=np.zeros((N,K))\n",
    "        \n",
    "        for c,g in self.gaussians.items():\n",
    "            mean , var = g['mean'],g['var']\n",
    "            p[:,c]= nvm.logpdf(X,mean=mean,cov=var)+ np.log(self.priors[c])\n",
    "            \n",
    "            \n",
    "        return np.argmax(p,axis=1)\n",
    "    \n",
    "    \n",
    "    \n",
    "        \n",
    "\n",
    "\n",
    "\n",
    "\n",
    "        \n",
    "        \n",
    "        "
   ]
  },
  {
   "cell_type": "markdown",
   "metadata": {},
   "source": [
    "non naive bayes"
   ]
  },
  {
   "cell_type": "code",
   "execution_count": 111,
   "metadata": {},
   "outputs": [],
   "source": [
    "class BayesClassifier(object):\n",
    "    \n",
    "    def fit(self,X,y,smoothing =10e-3):\n",
    "        self.gaussians= dict()\n",
    "        self.priors =dict()\n",
    "        lables = set(y)\n",
    "        for c in labels:\n",
    "            current_x = X[y==c]\n",
    "            self.gaussians[c]={'mean': np.mean(current_x,axis=0),'var': np.cov(current_x.T)+ np.eye(D)*smoothing}\n",
    "            self.priors[c]=float(len(y[y==c]))/len(y)\n",
    "            \n",
    "            \n",
    "            \n",
    "    def score(self,X,y):\n",
    "        P= self.predict(X)\n",
    "        \n",
    "        return np.mean(P==y)\n",
    "    \n",
    "    \n",
    "    \n",
    "    \n",
    "    \n",
    "    \n",
    "    \n",
    "    def predict(self,X):\n",
    "        \n",
    "        N,D = X.shape\n",
    "        K = len(self.gaussians)\n",
    "        P = np.zeros((N,K))\n",
    "        \n",
    "        for c ,g in self.gaussians.items():\n",
    "            mean ,var = g['mean'],g['var']\n",
    "            \n",
    "            P[:,c]= nvm.logpdf(X,mean=mean,cov=var)+ np.log(self.priors[c])\n",
    "            \n",
    "        return np.argmax(P,axis=1)\n",
    "    \n",
    "    \n",
    "            \n",
    "    \n",
    "    \n",
    "    \n",
    "    \n",
    "    \n",
    "    \n",
    "        \n",
    "        \n",
    "    \n",
    "    "
   ]
  },
  {
   "cell_type": "markdown",
   "metadata": {},
   "source": [
    "perceptron learning algo\n"
   ]
  },
  {
   "cell_type": "code",
   "execution_count": 146,
   "metadata": {},
   "outputs": [],
   "source": [
    "class perceptron(object):\n",
    "    \n",
    "    def fit(self,X,y,learning_rate =1.0,epochs =1000):\n",
    "        D=X.shape[1]\n",
    "        self.w=np.random.randn(D)\n",
    "        self.b=0\n",
    "        N=len(y)\n",
    "        costs=[]\n",
    "        \n",
    "        for epoch in range(epochs):\n",
    "            yhat = self.predict(X)\n",
    "            incorrect = np.nonzero(y!=yhat)[0] #?????!!!!!!!!!\n",
    "            if(len(incorrect)==0):\n",
    "                break\n",
    "\n",
    "            i = np.random.choice(incorrect)\n",
    "            self.w += learning_rate*y[i]*X[i]\n",
    "            self.b += learning_rate*y[i]\n",
    "            \n",
    "            c = len(incorrect)/float(N)\n",
    "            costs.append(c)\n",
    "            \n",
    "        \n",
    "        fig = plt.figure(figsize=(10,10))\n",
    "        \n",
    "        plt.plot(costs)\n",
    "        plt.show()\n",
    "            \n",
    "    \n",
    "        \n",
    "        \n",
    "    def predict(self,X):\n",
    "        return np.sign(X.dot(self.w)+self.b)\n",
    "    \n",
    "    \n",
    "    def score(self,X,y):\n",
    "        p = self.predict(X)\n",
    "        return np.mean(y!=p)\n",
    "        \n",
    "            "
   ]
  },
  {
   "cell_type": "code",
   "execution_count": 147,
   "metadata": {},
   "outputs": [],
   "source": [
    "perceptron_ = perceptron()"
   ]
  },
  {
   "cell_type": "code",
   "execution_count": 148,
   "metadata": {},
   "outputs": [
    {
     "data": {
      "image/png": "[encoded data removed]",
      "text/plain": [
       "<Figure size 720x720 with 1 Axes>"
      ]
     },
     "metadata": {
      "needs_background": "light"
     },
     "output_type": "display_data"
    }
   ],
   "source": [
    "perceptron_.fit(x_train1,y_train1,learning_rate=10e-3)"
   ]
  },
  {
   "cell_type": "code",
   "execution_count": 145,
   "metadata": {},
   "outputs": [
    {
     "data": {
      "text/plain": [
       "0.884"
      ]
     },
     "execution_count": 145,
     "metadata": {},
     "output_type": "execute_result"
    }
   ],
   "source": [
    "\n",
    "    "
   ]
  },
  {
   "cell_type": "code",
   "execution_count": null,
   "metadata": {},
   "outputs": [],
   "source": []
  }
 ],
 "metadata": {
  "kernelspec": {
   "display_name": "Python 3",
   "language": "python",
   "name": "python3"
  },
  "language_info": {
   "codemirror_mode": {
    "name": "ipython",
    "version": 3
   },
   "file_extension": ".py",
   "mimetype": "text/x-python",
   "name": "python",
   "nbconvert_exporter": "python",
   "pygments_lexer": "ipython3",
   "version": "3.7.1"
  }
 },
 "nbformat": 4,
 "nbformat_minor": 2
}
